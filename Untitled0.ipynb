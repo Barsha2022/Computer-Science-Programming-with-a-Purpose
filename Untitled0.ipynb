{
  "nbformat": 4,
  "nbformat_minor": 0,
  "metadata": {
    "colab": {
      "provenance": [],
      "toc_visible": true,
      "authorship_tag": "ABX9TyMxbjVU8ENiS21sc7BHv03X",
      "include_colab_link": true
    },
    "kernelspec": {
      "name": "python3",
      "display_name": "Python 3"
    },
    "language_info": {
      "name": "python"
    }
  },
  "cells": [
    {
      "cell_type": "markdown",
      "metadata": {
        "id": "view-in-github",
        "colab_type": "text"
      },
      "source": [
        "<a href=\"https://colab.research.google.com/github/Barsha2022/Computer-Science-Programming-with-a-Purpose/blob/main/Untitled0.ipynb\" target=\"_parent\"><img src=\"https://colab.research.google.com/assets/colab-badge.svg\" alt=\"Open In Colab\"/></a>"
      ]
    },
    {
      "cell_type": "markdown",
      "source": [
        "python "
      ],
      "metadata": {
        "id": "voWovbv6G0ut"
      }
    },
    {
      "cell_type": "code",
      "execution_count": 11,
      "metadata": {
        "colab": {
          "base_uri": "https://localhost:8080/"
        },
        "id": "s236bJbnDJtP",
        "outputId": "921845e2-ea21-4ba2-f168-284d28aa67d3"
      },
      "outputs": [
        {
          "output_type": "stream",
          "name": "stdout",
          "text": [
            "enter a number: 876\n",
            "876 is even....\n"
          ]
        }
      ],
      "source": [
        "#check odd or even number in python\n",
        "n=int(input(\"Enter a number: \"))\n",
        "\n",
        "if n%2==0:\n",
        "  print(str(n)+ \" is even....\")\n",
        "else:\n",
        "  print(str(n)+ \" is odd...\")"
      ]
    },
    {
      "cell_type": "code",
      "source": [
        "#check larger number using python\n",
        "a=89\n",
        "b=6\n",
        "c=67\n",
        "if a>=b and a>=c:\n",
        "  print(a,\"is big\")\n",
        "elif b>a and b>=c:\n",
        "  print(b,\"is big\")\n",
        "else:\n",
        "  print(c,\"is big\")    "
      ],
      "metadata": {
        "colab": {
          "base_uri": "https://localhost:8080/"
        },
        "id": "HmHxszJlLBG5",
        "outputId": "769c01a6-6276-48d3-b53d-280ad70b3c37"
      },
      "execution_count": 17,
      "outputs": [
        {
          "output_type": "stream",
          "name": "stdout",
          "text": [
            "89 is big\n"
          ]
        }
      ]
    },
    {
      "cell_type": "code",
      "source": [
        "#place holder\n",
        "txt=\"My age {a}\"\n",
        "print(txt.format(a=19))"
      ],
      "metadata": {
        "colab": {
          "base_uri": "https://localhost:8080/"
        },
        "id": "rzD4O2HKOsbQ",
        "outputId": "951cbfb7-7c06-42d9-9ea3-6685a4d3baca"
      },
      "execution_count": 19,
      "outputs": [
        {
          "output_type": "stream",
          "name": "stdout",
          "text": [
            "My age 19\n"
          ]
        }
      ]
    },
    {
      "cell_type": "code",
      "source": [
        "txt=\"I'm {x} and my age {a}\"\n",
        "print(txt.format(x=\"Barsha saha\",a=19))"
      ],
      "metadata": {
        "colab": {
          "base_uri": "https://localhost:8080/"
        },
        "id": "SxKIwAqYQL2I",
        "outputId": "a0181db4-bdb3-46e9-f359-af40a4d497fc"
      },
      "execution_count": 29,
      "outputs": [
        {
          "output_type": "stream",
          "name": "stdout",
          "text": [
            "I'm Barsha saha and my age 19\n"
          ]
        }
      ]
    }
  ]
}